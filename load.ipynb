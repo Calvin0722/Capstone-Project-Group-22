{
 "cells": [
  {
   "cell_type": "code",
   "execution_count": 3,
   "metadata": {},
   "outputs": [
    {
     "name": "stdout",
     "output_type": "stream",
     "text": [
      "        day  item_id  warehouse_id  warehouse_city_id  total_begin_qty  \\\n",
      "0  20170605    34474            88                108                0   \n",
      "1  20170426    34474            88                108                0   \n",
      "2  20170414    34474            88                108                0   \n",
      "3  20170427    34474            88                108                0   \n",
      "4  20170425    34474            88                108                0   \n",
      "\n",
      "   total_end_qty  Replen_in_qty  transfer_in_qty  sale_out_qty  \\\n",
      "0              0              0                0             0   \n",
      "1              0              0                0             0   \n",
      "2              0              0                0             0   \n",
      "3              0              0                0             0   \n",
      "4              0              0                0             0   \n",
      "\n",
      "   transfer_out_qty  \n",
      "0                 0  \n",
      "1                 0  \n",
      "2                 0  \n",
      "3                 0  \n",
      "4                 0  \n"
     ]
    }
   ],
   "source": [
    "import pandas as pd\n",
    "\n",
    "# Specify the path to your CSV file\n",
    "file_path = './data/data_8/msom_inventory_data.csv'\n",
    "\n",
    "column_names = [\n",
    "    \"day\", \"item_id\", \"warehouse_id\", \"warehouse_city_id\",\n",
    "    \"total_begin_qty\", \"total_end_qty\", \"Replen_in_qty\",\n",
    "    \"transfer_in_qty\", \"sale_out_qty\", \"transfer_out_qty\"\n",
    "]\n",
    "\n",
    "inventory_data = pd.read_csv(file_path, names=column_names)\n",
    "# Display the first few rows of the DataFrame\n",
    "print(inventory_data.head())"
   ]
  },
  {
   "cell_type": "code",
   "execution_count": null,
   "metadata": {},
   "outputs": [],
   "source": []
  }
 ],
 "metadata": {
  "kernelspec": {
   "display_name": "base",
   "language": "python",
   "name": "python3"
  },
  "language_info": {
   "codemirror_mode": {
    "name": "ipython",
    "version": 3
   },
   "file_extension": ".py",
   "mimetype": "text/x-python",
   "name": "python",
   "nbconvert_exporter": "python",
   "pygments_lexer": "ipython3",
   "version": "3.9.12"
  }
 },
 "nbformat": 4,
 "nbformat_minor": 2
}
